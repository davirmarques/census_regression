{
 "cells": [
  {
   "cell_type": "code",
   "execution_count": 1,
   "id": "proper-punishment",
   "metadata": {},
   "outputs": [],
   "source": [
    "import pandas as pd\n",
    "import numpy as np\n",
    "from sklearn.model_selection import train_test_split\n",
    "from sklearn.preprocessing import StandardScaler\n",
    "from sklearn import preprocessing\n",
    "import pickle"
   ]
  },
  {
   "cell_type": "code",
   "execution_count": 2,
   "id": "dated-cartridge",
   "metadata": {},
   "outputs": [],
   "source": [
    "df = pd.read_csv(\"censu_regressao_tratado.csv\")"
   ]
  },
  {
   "cell_type": "code",
   "execution_count": 3,
   "id": "removed-pulse",
   "metadata": {},
   "outputs": [
    {
     "data": {
      "text/plain": [
       "74001"
      ]
     },
     "execution_count": 3,
     "metadata": {},
     "output_type": "execute_result"
    }
   ],
   "source": [
    "len(df)"
   ]
  },
  {
   "cell_type": "code",
   "execution_count": 4,
   "id": "alert-tractor",
   "metadata": {},
   "outputs": [
    {
     "data": {
      "text/plain": [
       "TractId               0\n",
       "State                 0\n",
       "County                0\n",
       "TotalPop              0\n",
       "Men                   0\n",
       "Women                 0\n",
       "Hispanic              0\n",
       "White                 0\n",
       "Black                 0\n",
       "Native                0\n",
       "Asian                 0\n",
       "Pacific               0\n",
       "VotingAgeCitizen      0\n",
       "Income                0\n",
       "IncomeErr             0\n",
       "IncomePerCap          0\n",
       "IncomePerCapErr       0\n",
       "Poverty               0\n",
       "ChildPoverty          0\n",
       "Professional          0\n",
       "Service               0\n",
       "Office                0\n",
       "Construction          0\n",
       "Production            0\n",
       "Drive                 0\n",
       "Carpool               0\n",
       "Transit               0\n",
       "Walk                  0\n",
       "OtherTransp           0\n",
       "WorkAtHome            0\n",
       "MeanCommute           0\n",
       "Employed              0\n",
       "PrivateWork           0\n",
       "PublicWork            0\n",
       "SelfEmployed          0\n",
       "FamilyWork            0\n",
       "Unemployment        810\n",
       "dtype: int64"
      ]
     },
     "execution_count": 4,
     "metadata": {},
     "output_type": "execute_result"
    }
   ],
   "source": [
    "df.isnull().sum()"
   ]
  },
  {
   "cell_type": "code",
   "execution_count": 5,
   "id": "banner-finnish",
   "metadata": {},
   "outputs": [
    {
     "data": {
      "text/html": [
       "<div>\n",
       "<style scoped>\n",
       "    .dataframe tbody tr th:only-of-type {\n",
       "        vertical-align: middle;\n",
       "    }\n",
       "\n",
       "    .dataframe tbody tr th {\n",
       "        vertical-align: top;\n",
       "    }\n",
       "\n",
       "    .dataframe thead th {\n",
       "        text-align: right;\n",
       "    }\n",
       "</style>\n",
       "<table border=\"1\" class=\"dataframe\">\n",
       "  <thead>\n",
       "    <tr style=\"text-align: right;\">\n",
       "      <th></th>\n",
       "      <th>TractId</th>\n",
       "      <th>State</th>\n",
       "      <th>County</th>\n",
       "      <th>TotalPop</th>\n",
       "      <th>Men</th>\n",
       "      <th>Women</th>\n",
       "      <th>Hispanic</th>\n",
       "      <th>White</th>\n",
       "      <th>Black</th>\n",
       "      <th>Native</th>\n",
       "      <th>...</th>\n",
       "      <th>Walk</th>\n",
       "      <th>OtherTransp</th>\n",
       "      <th>WorkAtHome</th>\n",
       "      <th>MeanCommute</th>\n",
       "      <th>Employed</th>\n",
       "      <th>PrivateWork</th>\n",
       "      <th>PublicWork</th>\n",
       "      <th>SelfEmployed</th>\n",
       "      <th>FamilyWork</th>\n",
       "      <th>Unemployment</th>\n",
       "    </tr>\n",
       "  </thead>\n",
       "  <tbody>\n",
       "    <tr>\n",
       "      <th>0</th>\n",
       "      <td>1001020100</td>\n",
       "      <td>Alabama</td>\n",
       "      <td>Autauga County</td>\n",
       "      <td>1845</td>\n",
       "      <td>899</td>\n",
       "      <td>946</td>\n",
       "      <td>2.4</td>\n",
       "      <td>86.3</td>\n",
       "      <td>5.2</td>\n",
       "      <td>0.0</td>\n",
       "      <td>...</td>\n",
       "      <td>0.5</td>\n",
       "      <td>0.0</td>\n",
       "      <td>2.1</td>\n",
       "      <td>24.5</td>\n",
       "      <td>881</td>\n",
       "      <td>74.2</td>\n",
       "      <td>21.2</td>\n",
       "      <td>4.5</td>\n",
       "      <td>0.0</td>\n",
       "      <td>4.6</td>\n",
       "    </tr>\n",
       "    <tr>\n",
       "      <th>1</th>\n",
       "      <td>1001020200</td>\n",
       "      <td>Alabama</td>\n",
       "      <td>Autauga County</td>\n",
       "      <td>2172</td>\n",
       "      <td>1167</td>\n",
       "      <td>1005</td>\n",
       "      <td>1.1</td>\n",
       "      <td>41.6</td>\n",
       "      <td>54.5</td>\n",
       "      <td>0.0</td>\n",
       "      <td>...</td>\n",
       "      <td>0.0</td>\n",
       "      <td>0.5</td>\n",
       "      <td>0.0</td>\n",
       "      <td>22.2</td>\n",
       "      <td>852</td>\n",
       "      <td>75.9</td>\n",
       "      <td>15.0</td>\n",
       "      <td>9.0</td>\n",
       "      <td>0.0</td>\n",
       "      <td>3.4</td>\n",
       "    </tr>\n",
       "    <tr>\n",
       "      <th>2</th>\n",
       "      <td>1001020300</td>\n",
       "      <td>Alabama</td>\n",
       "      <td>Autauga County</td>\n",
       "      <td>3385</td>\n",
       "      <td>1533</td>\n",
       "      <td>1852</td>\n",
       "      <td>8.0</td>\n",
       "      <td>61.4</td>\n",
       "      <td>26.5</td>\n",
       "      <td>0.6</td>\n",
       "      <td>...</td>\n",
       "      <td>1.0</td>\n",
       "      <td>0.8</td>\n",
       "      <td>1.5</td>\n",
       "      <td>23.1</td>\n",
       "      <td>1482</td>\n",
       "      <td>73.3</td>\n",
       "      <td>21.1</td>\n",
       "      <td>4.8</td>\n",
       "      <td>0.7</td>\n",
       "      <td>4.7</td>\n",
       "    </tr>\n",
       "    <tr>\n",
       "      <th>3</th>\n",
       "      <td>1001020400</td>\n",
       "      <td>Alabama</td>\n",
       "      <td>Autauga County</td>\n",
       "      <td>4267</td>\n",
       "      <td>2001</td>\n",
       "      <td>2266</td>\n",
       "      <td>9.6</td>\n",
       "      <td>80.3</td>\n",
       "      <td>7.1</td>\n",
       "      <td>0.5</td>\n",
       "      <td>...</td>\n",
       "      <td>1.5</td>\n",
       "      <td>2.9</td>\n",
       "      <td>2.1</td>\n",
       "      <td>25.9</td>\n",
       "      <td>1849</td>\n",
       "      <td>75.8</td>\n",
       "      <td>19.7</td>\n",
       "      <td>4.5</td>\n",
       "      <td>0.0</td>\n",
       "      <td>6.1</td>\n",
       "    </tr>\n",
       "    <tr>\n",
       "      <th>4</th>\n",
       "      <td>1001020500</td>\n",
       "      <td>Alabama</td>\n",
       "      <td>Autauga County</td>\n",
       "      <td>9965</td>\n",
       "      <td>5054</td>\n",
       "      <td>4911</td>\n",
       "      <td>0.9</td>\n",
       "      <td>77.5</td>\n",
       "      <td>16.4</td>\n",
       "      <td>0.0</td>\n",
       "      <td>...</td>\n",
       "      <td>0.8</td>\n",
       "      <td>0.3</td>\n",
       "      <td>0.7</td>\n",
       "      <td>21.0</td>\n",
       "      <td>4787</td>\n",
       "      <td>71.4</td>\n",
       "      <td>24.1</td>\n",
       "      <td>4.5</td>\n",
       "      <td>0.0</td>\n",
       "      <td>2.3</td>\n",
       "    </tr>\n",
       "  </tbody>\n",
       "</table>\n",
       "<p>5 rows × 37 columns</p>\n",
       "</div>"
      ],
      "text/plain": [
       "      TractId    State          County  TotalPop   Men  Women  Hispanic  \\\n",
       "0  1001020100  Alabama  Autauga County      1845   899    946       2.4   \n",
       "1  1001020200  Alabama  Autauga County      2172  1167   1005       1.1   \n",
       "2  1001020300  Alabama  Autauga County      3385  1533   1852       8.0   \n",
       "3  1001020400  Alabama  Autauga County      4267  2001   2266       9.6   \n",
       "4  1001020500  Alabama  Autauga County      9965  5054   4911       0.9   \n",
       "\n",
       "   White  Black  Native  ...  Walk  OtherTransp  WorkAtHome  MeanCommute  \\\n",
       "0   86.3    5.2     0.0  ...   0.5          0.0         2.1         24.5   \n",
       "1   41.6   54.5     0.0  ...   0.0          0.5         0.0         22.2   \n",
       "2   61.4   26.5     0.6  ...   1.0          0.8         1.5         23.1   \n",
       "3   80.3    7.1     0.5  ...   1.5          2.9         2.1         25.9   \n",
       "4   77.5   16.4     0.0  ...   0.8          0.3         0.7         21.0   \n",
       "\n",
       "   Employed  PrivateWork  PublicWork  SelfEmployed  FamilyWork  Unemployment  \n",
       "0       881         74.2        21.2           4.5         0.0           4.6  \n",
       "1       852         75.9        15.0           9.0         0.0           3.4  \n",
       "2      1482         73.3        21.1           4.8         0.7           4.7  \n",
       "3      1849         75.8        19.7           4.5         0.0           6.1  \n",
       "4      4787         71.4        24.1           4.5         0.0           2.3  \n",
       "\n",
       "[5 rows x 37 columns]"
      ]
     },
     "execution_count": 5,
     "metadata": {},
     "output_type": "execute_result"
    }
   ],
   "source": [
    "df.head(5)"
   ]
  },
  {
   "cell_type": "code",
   "execution_count": 6,
   "id": "afraid-ceremony",
   "metadata": {},
   "outputs": [],
   "source": [
    "df_target = df[['Income']]"
   ]
  },
  {
   "cell_type": "code",
   "execution_count": 7,
   "id": "uniform-theater",
   "metadata": {},
   "outputs": [],
   "source": [
    "df = df.drop(['Income'], axis = 1)"
   ]
  },
  {
   "cell_type": "code",
   "execution_count": 8,
   "id": "understanding-representation",
   "metadata": {},
   "outputs": [
    {
     "data": {
      "text/plain": [
       "(array([     0,   2692,   2702, ..., 248438, 249219, 249750]),\n",
       " array([1116,    1,    1, ...,    1,    1,    1]))"
      ]
     },
     "execution_count": 8,
     "metadata": {},
     "output_type": "execute_result"
    }
   ],
   "source": [
    "np.unique(df_target['Income'], return_counts = True)"
   ]
  },
  {
   "cell_type": "code",
   "execution_count": 9,
   "id": "hungry-librarian",
   "metadata": {},
   "outputs": [
    {
     "data": {
      "text/plain": [
       "Index(['TractId', 'State', 'County', 'TotalPop', 'Men', 'Women', 'Hispanic',\n",
       "       'White', 'Black', 'Native', 'Asian', 'Pacific', 'VotingAgeCitizen',\n",
       "       'IncomeErr', 'IncomePerCap', 'IncomePerCapErr', 'Poverty',\n",
       "       'ChildPoverty', 'Professional', 'Service', 'Office', 'Construction',\n",
       "       'Production', 'Drive', 'Carpool', 'Transit', 'Walk', 'OtherTransp',\n",
       "       'WorkAtHome', 'MeanCommute', 'Employed', 'PrivateWork', 'PublicWork',\n",
       "       'SelfEmployed', 'FamilyWork', 'Unemployment'],\n",
       "      dtype='object')"
      ]
     },
     "execution_count": 9,
     "metadata": {},
     "output_type": "execute_result"
    }
   ],
   "source": [
    "df.columns"
   ]
  },
  {
   "cell_type": "code",
   "execution_count": 10,
   "id": "spare-actor",
   "metadata": {},
   "outputs": [],
   "source": [
    "df = df.drop(['TractId','County', 'Unemployment'],axis = 1)"
   ]
  },
  {
   "cell_type": "code",
   "execution_count": 11,
   "id": "traditional-triumph",
   "metadata": {},
   "outputs": [
    {
     "data": {
      "text/plain": [
       "(array(['Alabama', 'Alaska', 'Arizona', 'Arkansas', 'California',\n",
       "        'Colorado', 'Connecticut', 'Delaware', 'District of Columbia',\n",
       "        'Florida', 'Georgia', 'Hawaii', 'Idaho', 'Illinois', 'Indiana',\n",
       "        'Iowa', 'Kansas', 'Kentucky', 'Louisiana', 'Maine', 'Maryland',\n",
       "        'Massachusetts', 'Michigan', 'Minnesota', 'Mississippi',\n",
       "        'Missouri', 'Montana', 'Nebraska', 'Nevada', 'New Hampshire',\n",
       "        'New Jersey', 'New Mexico', 'New York', 'North Carolina',\n",
       "        'North Dakota', 'Ohio', 'Oklahoma', 'Oregon', 'Pennsylvania',\n",
       "        'Puerto Rico', 'Rhode Island', 'South Carolina', 'South Dakota',\n",
       "        'Tennessee', 'Texas', 'Utah', 'Vermont', 'Virginia', 'Washington',\n",
       "        'West Virginia', 'Wisconsin', 'Wyoming'], dtype=object),\n",
       " array([1181,  167, 1526,  686, 8057, 1249,  833,  218,  179, 4245, 1969,\n",
       "         351,  298, 3123, 1511,  825,  770, 1115, 1148,  358, 1406, 1478,\n",
       "        2813, 1338,  664, 1393,  271,  532,  687,  295, 2010,  499, 4918,\n",
       "        2195,  205, 2952, 1046,  834, 3218,  945,  244, 1103,  222, 1497,\n",
       "        5265,  588,  184, 1907, 1458,  484, 1409,  132]))"
      ]
     },
     "execution_count": 11,
     "metadata": {},
     "output_type": "execute_result"
    }
   ],
   "source": [
    "np.unique(df['State'], return_counts = True)"
   ]
  },
  {
   "cell_type": "code",
   "execution_count": 12,
   "id": "hungry-turkey",
   "metadata": {},
   "outputs": [
    {
     "data": {
      "text/plain": [
       "(array([    0,     1,     2, ..., 22181, 28658, 32266]),\n",
       " array([715,   1,   2, ...,   1,   1,   1]))"
      ]
     },
     "execution_count": 12,
     "metadata": {},
     "output_type": "execute_result"
    }
   ],
   "source": [
    "np.unique(df['Men'], return_counts = True)"
   ]
  },
  {
   "cell_type": "code",
   "execution_count": 28,
   "id": "thorough-compromise",
   "metadata": {},
   "outputs": [],
   "source": [
    "def tipo_Men(line):\n",
    "    if line == '0' :\n",
    "        return '0'\n",
    "    elif line >= '0.1':\n",
    "            return '1'"
   ]
  },
  {
   "cell_type": "code",
   "execution_count": 29,
   "id": "nervous-europe",
   "metadata": {},
   "outputs": [],
   "source": [
    "df['Men_']   = df['Men'].apply(lambda x: tipo_Men(x))\n",
    "df_Men = pd.get_dummies(df['Men_'], dummy_na=True)"
   ]
  },
  {
   "cell_type": "code",
   "execution_count": 30,
   "id": "satisfactory-involvement",
   "metadata": {},
   "outputs": [
    {
     "data": {
      "text/plain": [
       "Index(['1', nan], dtype='object')"
      ]
     },
     "execution_count": 30,
     "metadata": {},
     "output_type": "execute_result"
    }
   ],
   "source": [
    "df_Men.columns"
   ]
  },
  {
   "cell_type": "code",
   "execution_count": 31,
   "id": "front-disclosure",
   "metadata": {},
   "outputs": [],
   "source": [
    "df_Men.columns   = [  '1','No_def_men' ]\n"
   ]
  },
  {
   "cell_type": "code",
   "execution_count": 32,
   "id": "angry-judges",
   "metadata": {},
   "outputs": [
    {
     "data": {
      "text/plain": [
       "(array([0, 1], dtype=uint8), array([74001, 74001]))"
      ]
     },
     "execution_count": 32,
     "metadata": {},
     "output_type": "execute_result"
    }
   ],
   "source": [
    "np.unique(df_Men,return_counts = True)"
   ]
  },
  {
   "cell_type": "code",
   "execution_count": null,
   "id": "tight-monte",
   "metadata": {},
   "outputs": [],
   "source": []
  },
  {
   "cell_type": "code",
   "execution_count": null,
   "id": "worse-wildlife",
   "metadata": {},
   "outputs": [],
   "source": [
    "np.unique(df['Women'], return_counts = True)"
   ]
  },
  {
   "cell_type": "code",
   "execution_count": null,
   "id": "rough-boulder",
   "metadata": {},
   "outputs": [],
   "source": [
    "def tipo_Men(line):\n",
    "    if line == '0' :\n",
    "        return '0'\n",
    "    else :\n",
    "        return '1"
   ]
  },
  {
   "cell_type": "code",
   "execution_count": null,
   "id": "corresponding-penetration",
   "metadata": {},
   "outputs": [],
   "source": [
    "np.unique(df['Hispanic'], return_counts = True)"
   ]
  },
  {
   "cell_type": "code",
   "execution_count": null,
   "id": "nasty-jewel",
   "metadata": {},
   "outputs": [],
   "source": [
    "def tipo_Men(line):\n",
    "    if line == '0' :\n",
    "        return '0'\n",
    "    else :\n",
    "        return '1"
   ]
  },
  {
   "cell_type": "code",
   "execution_count": null,
   "id": "satisfied-montreal",
   "metadata": {},
   "outputs": [],
   "source": [
    "np.unique(df['White'], return_counts = True)"
   ]
  },
  {
   "cell_type": "code",
   "execution_count": null,
   "id": "minimal-devices",
   "metadata": {},
   "outputs": [],
   "source": [
    "def tipo_Men(line):\n",
    "    if line == '0' :\n",
    "        return '0'\n",
    "    else :\n",
    "        return '1"
   ]
  },
  {
   "cell_type": "code",
   "execution_count": null,
   "id": "adverse-measure",
   "metadata": {},
   "outputs": [],
   "source": [
    "np.unique(df['Native'], return_counts = True)"
   ]
  },
  {
   "cell_type": "code",
   "execution_count": null,
   "id": "flying-photograph",
   "metadata": {},
   "outputs": [],
   "source": [
    "def tipo_Men(line):\n",
    "    if line == '0' :\n",
    "        return '0'\n",
    "    else :\n",
    "        return '1"
   ]
  },
  {
   "cell_type": "code",
   "execution_count": null,
   "id": "exceptional-representative",
   "metadata": {},
   "outputs": [],
   "source": [
    "np.unique(df['Asian'], return_counts = True)"
   ]
  },
  {
   "cell_type": "code",
   "execution_count": null,
   "id": "mature-category",
   "metadata": {},
   "outputs": [],
   "source": [
    "def tipo_Men(line):\n",
    "    if line == '0' :\n",
    "        return '0'\n",
    "    else :\n",
    "        return '1"
   ]
  },
  {
   "cell_type": "code",
   "execution_count": null,
   "id": "functional-league",
   "metadata": {},
   "outputs": [],
   "source": [
    "np.unique(df['Pacific'], return_counts = True)"
   ]
  },
  {
   "cell_type": "code",
   "execution_count": null,
   "id": "broken-uzbekistan",
   "metadata": {},
   "outputs": [],
   "source": [
    "def tipo_Men(line):\n",
    "    if line == '0' :\n",
    "        return '0'\n",
    "    else :\n",
    "        return '1"
   ]
  },
  {
   "cell_type": "code",
   "execution_count": null,
   "id": "applicable-dispute",
   "metadata": {},
   "outputs": [],
   "source": [
    "np.unique(df['VotingAgeCitizen'], return_counts = True)"
   ]
  },
  {
   "cell_type": "code",
   "execution_count": null,
   "id": "sought-christian",
   "metadata": {},
   "outputs": [],
   "source": [
    "def tipo_Men(line):\n",
    "    if line == '0' :\n",
    "        return '0'\n",
    "    else :\n",
    "        return '1"
   ]
  },
  {
   "cell_type": "code",
   "execution_count": null,
   "id": "rapid-bubble",
   "metadata": {},
   "outputs": [],
   "source": [
    "np.unique(df['IncomeErr'], return_counts = True)"
   ]
  },
  {
   "cell_type": "code",
   "execution_count": null,
   "id": "previous-federation",
   "metadata": {},
   "outputs": [],
   "source": [
    "def tipo_Men(line):\n",
    "    if line == '0' :\n",
    "        return '0'\n",
    "    else :\n",
    "        return '1"
   ]
  },
  {
   "cell_type": "code",
   "execution_count": null,
   "id": "emotional-serial",
   "metadata": {},
   "outputs": [],
   "source": [
    "np.unique(df['IncomePerCap'], return_counts = True)"
   ]
  },
  {
   "cell_type": "code",
   "execution_count": null,
   "id": "patent-camping",
   "metadata": {},
   "outputs": [],
   "source": [
    "def tipo_Men(line):\n",
    "    if line == '0' :\n",
    "        return '0'\n",
    "    else :\n",
    "        return '1"
   ]
  },
  {
   "cell_type": "code",
   "execution_count": null,
   "id": "adjusted-seller",
   "metadata": {},
   "outputs": [],
   "source": [
    "np.unique(df['IncomePerCapErr'], return_counts = True)"
   ]
  },
  {
   "cell_type": "code",
   "execution_count": null,
   "id": "republican-verification",
   "metadata": {},
   "outputs": [],
   "source": [
    "def tipo_Men(line):\n",
    "    if line == '0' :\n",
    "        return '0'\n",
    "    else :\n",
    "        return '1"
   ]
  },
  {
   "cell_type": "code",
   "execution_count": null,
   "id": "independent-parts",
   "metadata": {},
   "outputs": [],
   "source": [
    "np.unique(df['Poverty'], return_counts = True)"
   ]
  },
  {
   "cell_type": "code",
   "execution_count": null,
   "id": "smooth-authentication",
   "metadata": {},
   "outputs": [],
   "source": [
    "def tipo_Men(line):\n",
    "    if line == '0' :\n",
    "        return '0'\n",
    "    else :\n",
    "        return '1"
   ]
  },
  {
   "cell_type": "code",
   "execution_count": null,
   "id": "informed-israel",
   "metadata": {},
   "outputs": [],
   "source": [
    "np.unique(df['ChildPoverty'], return_counts = True)"
   ]
  },
  {
   "cell_type": "code",
   "execution_count": null,
   "id": "laughing-african",
   "metadata": {},
   "outputs": [],
   "source": [
    "def tipo_Men(line):\n",
    "    if line == '0' :\n",
    "        return '0'\n",
    "    else :\n",
    "        return '1"
   ]
  },
  {
   "cell_type": "code",
   "execution_count": null,
   "id": "regional-aerospace",
   "metadata": {},
   "outputs": [],
   "source": [
    "np.unique(df['Professional'], return_counts = True)"
   ]
  },
  {
   "cell_type": "code",
   "execution_count": null,
   "id": "threatened-reporter",
   "metadata": {},
   "outputs": [],
   "source": [
    "def tipo_Men(line):\n",
    "    if line == '0' :\n",
    "        return '0'\n",
    "    else :\n",
    "        return '1"
   ]
  },
  {
   "cell_type": "code",
   "execution_count": null,
   "id": "alike-health",
   "metadata": {},
   "outputs": [],
   "source": [
    "np.unique(df['Service'], return_counts = True)"
   ]
  },
  {
   "cell_type": "code",
   "execution_count": null,
   "id": "appreciated-angel",
   "metadata": {},
   "outputs": [],
   "source": [
    "def tipo_Men(line):\n",
    "    if line == '0' :\n",
    "        return '0'\n",
    "    else :\n",
    "        return '1"
   ]
  },
  {
   "cell_type": "code",
   "execution_count": null,
   "id": "universal-berry",
   "metadata": {},
   "outputs": [],
   "source": [
    "np.unique(df['Office'], return_counts = True)"
   ]
  },
  {
   "cell_type": "code",
   "execution_count": null,
   "id": "interested-coaching",
   "metadata": {},
   "outputs": [],
   "source": [
    "def tipo_Men(line):\n",
    "    if line == '0' :\n",
    "        return '0'\n",
    "    else :\n",
    "        return '1"
   ]
  },
  {
   "cell_type": "code",
   "execution_count": null,
   "id": "exciting-finland",
   "metadata": {},
   "outputs": [],
   "source": [
    "np.unique(df['Construction'], return_counts = True)"
   ]
  },
  {
   "cell_type": "code",
   "execution_count": null,
   "id": "controversial-mustang",
   "metadata": {},
   "outputs": [],
   "source": [
    "def tipo_Men(line):\n",
    "    if line == '0' :\n",
    "        return '0'\n",
    "    else :\n",
    "        return '1"
   ]
  },
  {
   "cell_type": "code",
   "execution_count": null,
   "id": "worse-israeli",
   "metadata": {},
   "outputs": [],
   "source": [
    "np.unique(df['Production'], return_counts = True)"
   ]
  },
  {
   "cell_type": "code",
   "execution_count": null,
   "id": "dominican-approach",
   "metadata": {},
   "outputs": [],
   "source": [
    "def tipo_Men(line):\n",
    "    if line == '0' :\n",
    "        return '0'\n",
    "    else :\n",
    "        return '1"
   ]
  },
  {
   "cell_type": "code",
   "execution_count": null,
   "id": "finished-canon",
   "metadata": {},
   "outputs": [],
   "source": [
    "np.unique(df['Drive'], return_counts = True)"
   ]
  },
  {
   "cell_type": "code",
   "execution_count": null,
   "id": "durable-grave",
   "metadata": {},
   "outputs": [],
   "source": [
    "def tipo_Men(line):\n",
    "    if line == '0' :\n",
    "        return '0'\n",
    "    else :\n",
    "        return '1"
   ]
  },
  {
   "cell_type": "code",
   "execution_count": null,
   "id": "liable-salad",
   "metadata": {},
   "outputs": [],
   "source": [
    "np.unique(df['Carpool'], return_counts = True)"
   ]
  },
  {
   "cell_type": "code",
   "execution_count": null,
   "id": "possible-delay",
   "metadata": {},
   "outputs": [],
   "source": [
    "def tipo_Men(line):\n",
    "    if line == '0' :\n",
    "        return '0'\n",
    "    else :\n",
    "        return '1"
   ]
  },
  {
   "cell_type": "code",
   "execution_count": null,
   "id": "surface-boundary",
   "metadata": {},
   "outputs": [],
   "source": [
    "np.unique(df['Transit'], return_counts = True)"
   ]
  },
  {
   "cell_type": "code",
   "execution_count": null,
   "id": "retained-inclusion",
   "metadata": {},
   "outputs": [],
   "source": [
    "def tipo_Men(line):\n",
    "    if line == '0' :\n",
    "        return '0'\n",
    "    else :\n",
    "        return '1"
   ]
  },
  {
   "cell_type": "code",
   "execution_count": null,
   "id": "final-thought",
   "metadata": {},
   "outputs": [],
   "source": [
    "np.unique(df['Walk'], return_counts = True)"
   ]
  },
  {
   "cell_type": "code",
   "execution_count": null,
   "id": "auburn-tours",
   "metadata": {},
   "outputs": [],
   "source": [
    "np.unique(df['OtherTransp'], return_counts = True)"
   ]
  },
  {
   "cell_type": "code",
   "execution_count": null,
   "id": "divided-picking",
   "metadata": {},
   "outputs": [],
   "source": [
    "np.unique(df['WorkAtHome'], return_counts = True)"
   ]
  },
  {
   "cell_type": "code",
   "execution_count": null,
   "id": "stunning-theorem",
   "metadata": {},
   "outputs": [],
   "source": [
    "np.unique(df['MeanCommute'], return_counts = True)"
   ]
  },
  {
   "cell_type": "code",
   "execution_count": null,
   "id": "standard-consumption",
   "metadata": {},
   "outputs": [],
   "source": [
    "np.unique(df['Employed'], return_counts = True)"
   ]
  },
  {
   "cell_type": "code",
   "execution_count": null,
   "id": "incorporated-treasurer",
   "metadata": {},
   "outputs": [],
   "source": [
    "np.unique(df['PrivateWork'], return_counts = True)"
   ]
  },
  {
   "cell_type": "code",
   "execution_count": null,
   "id": "suffering-richardson",
   "metadata": {},
   "outputs": [],
   "source": [
    "np.unique(df['PublicWork'], return_counts = True)"
   ]
  },
  {
   "cell_type": "code",
   "execution_count": null,
   "id": "chinese-point",
   "metadata": {},
   "outputs": [],
   "source": [
    "np.unique(df['SelfEmployed'], return_counts = True)"
   ]
  },
  {
   "cell_type": "code",
   "execution_count": null,
   "id": "diverse-organ",
   "metadata": {},
   "outputs": [],
   "source": [
    "np.unique(df['FamilyWork'], return_counts = True)"
   ]
  },
  {
   "cell_type": "code",
   "execution_count": null,
   "id": "alike-baghdad",
   "metadata": {},
   "outputs": [],
   "source": [
    "np.unique(df['State'], return_counts = True)"
   ]
  },
  {
   "cell_type": "code",
   "execution_count": null,
   "id": "shared-insulin",
   "metadata": {},
   "outputs": [],
   "source": [
    "df_state = pd.get_dummies(df['State'], dummy_na=True)"
   ]
  },
  {
   "cell_type": "code",
   "execution_count": null,
   "id": "instrumental-roommate",
   "metadata": {},
   "outputs": [],
   "source": [
    "df_state.columns"
   ]
  },
  {
   "cell_type": "code",
   "execution_count": null,
   "id": "amended-pocket",
   "metadata": {},
   "outputs": [],
   "source": [
    "df_state.columns   =[             'Alabama',               'Alaska',              'Arizona',\n",
    "                   'Arkansas',           'California',             'Colorado',\n",
    "                'Connecticut',             'Delaware', 'District_of_Columbia',\n",
    "                    'Florida',              'Georgia',               'Hawaii',\n",
    "                      'Idaho',             'Illinois',              'Indiana',\n",
    "                       'Iowa',               'Kansas',             'Kentucky',\n",
    "                  'Louisiana',                'Maine',             'Maryland',\n",
    "              'Massachusetts',             'Michigan',            'Minnesota',\n",
    "                'Mississippi',             'Missouri',              'Montana',\n",
    "                   'Nebraska',               'Nevada',        'New_Hampshire',\n",
    "                 'New_Jersey',           'New_Mexico',             'New_York',\n",
    "             'North_Carolina',         'North_Dakota',                 'Ohio',\n",
    "                   'Oklahoma',               'Oregon',         'Pennsylvania',\n",
    "                'Puerto_Rico',         'Rhode_Island',       'South_Carolina',\n",
    "               'South_Dakota',            'Tennessee',                'Texas',\n",
    "                       'Utah',              'Vermont',             'Virginia',\n",
    "                 'Washington',        'West_Virginia',            'Wisconsin',\n",
    "                    'Wyoming',                    'No_Def_State']"
   ]
  },
  {
   "cell_type": "code",
   "execution_count": null,
   "id": "varied-increase",
   "metadata": {},
   "outputs": [],
   "source": [
    "df_state = df_state.drop(['No_Def_State'], axis = 1)"
   ]
  },
  {
   "cell_type": "code",
   "execution_count": null,
   "id": "special-andrew",
   "metadata": {},
   "outputs": [],
   "source": [
    "df_menu = df"
   ]
  },
  {
   "cell_type": "code",
   "execution_count": null,
   "id": "marine-series",
   "metadata": {},
   "outputs": [],
   "source": [
    "df_menu = pd.concat([df_menu, df_state ], axis=1, join=\"inner\")"
   ]
  },
  {
   "cell_type": "code",
   "execution_count": null,
   "id": "exposed-andrew",
   "metadata": {},
   "outputs": [],
   "source": [
    "df_menu.head(4)"
   ]
  },
  {
   "cell_type": "code",
   "execution_count": null,
   "id": "limiting-exhibition",
   "metadata": {},
   "outputs": [],
   "source": [
    "df_menu.isnull().sum()"
   ]
  },
  {
   "cell_type": "code",
   "execution_count": null,
   "id": "eligible-pilot",
   "metadata": {},
   "outputs": [],
   "source": [
    "df_target.isnull().sum()"
   ]
  },
  {
   "cell_type": "code",
   "execution_count": null,
   "id": "ignored-necessity",
   "metadata": {},
   "outputs": [],
   "source": [
    "df_menu.columns"
   ]
  },
  {
   "cell_type": "code",
   "execution_count": null,
   "id": "athletic-village",
   "metadata": {},
   "outputs": [],
   "source": [
    "df_menu = df_menu.drop(['State'], axis = 1)"
   ]
  },
  {
   "cell_type": "code",
   "execution_count": null,
   "id": "wrapped-suspension",
   "metadata": {},
   "outputs": [],
   "source": [
    "df_target.columns"
   ]
  },
  {
   "cell_type": "code",
   "execution_count": null,
   "id": "cardiovascular-estonia",
   "metadata": {},
   "outputs": [],
   "source": [
    "np.unique(df_target['Income'],return_counts = True)"
   ]
  },
  {
   "cell_type": "code",
   "execution_count": null,
   "id": "overhead-aluminum",
   "metadata": {},
   "outputs": [],
   "source": [
    "min_max_scaler = preprocessing.MinMaxScaler()"
   ]
  },
  {
   "cell_type": "code",
   "execution_count": null,
   "id": "recovered-choir",
   "metadata": {},
   "outputs": [],
   "source": [
    "x = df_menu"
   ]
  },
  {
   "cell_type": "code",
   "execution_count": null,
   "id": "awful-chassis",
   "metadata": {},
   "outputs": [],
   "source": [
    "x = min_max_scaler.fit_transform(x)"
   ]
  },
  {
   "cell_type": "code",
   "execution_count": null,
   "id": "demanding-noise",
   "metadata": {},
   "outputs": [],
   "source": [
    "y = df_target"
   ]
  },
  {
   "cell_type": "code",
   "execution_count": null,
   "id": "liked-unemployment",
   "metadata": {},
   "outputs": [],
   "source": [
    "x_train, x_test, y_train, y_test = train_test_split(x, y, test_size = 0.20)"
   ]
  },
  {
   "cell_type": "code",
   "execution_count": null,
   "id": "selective-madison",
   "metadata": {},
   "outputs": [],
   "source": [
    "from sklearn import linear_model"
   ]
  },
  {
   "cell_type": "code",
   "execution_count": null,
   "id": "dynamic-jackson",
   "metadata": {},
   "outputs": [],
   "source": [
    "reg = linear_model.LinearRegression()"
   ]
  },
  {
   "cell_type": "code",
   "execution_count": null,
   "id": "convinced-algebra",
   "metadata": {},
   "outputs": [],
   "source": [
    "np.unique(x_train, return_counts = True)"
   ]
  },
  {
   "cell_type": "code",
   "execution_count": null,
   "id": "natural-scout",
   "metadata": {},
   "outputs": [],
   "source": [
    "np.unique(x_test, return_counts = True)"
   ]
  },
  {
   "cell_type": "code",
   "execution_count": null,
   "id": "tribal-macintosh",
   "metadata": {},
   "outputs": [],
   "source": [
    "np.unique(y_train, return_counts = True)"
   ]
  },
  {
   "cell_type": "code",
   "execution_count": null,
   "id": "sharp-jonathan",
   "metadata": {},
   "outputs": [],
   "source": [
    "np.unique(y_test, return_counts = True)"
   ]
  },
  {
   "cell_type": "code",
   "execution_count": null,
   "id": "reliable-stylus",
   "metadata": {},
   "outputs": [],
   "source": []
  },
  {
   "cell_type": "code",
   "execution_count": null,
   "id": "concrete-writer",
   "metadata": {},
   "outputs": [],
   "source": [
    "reg.fit(x_train,y_train)"
   ]
  },
  {
   "cell_type": "code",
   "execution_count": null,
   "id": "chinese-spokesman",
   "metadata": {},
   "outputs": [],
   "source": [
    "y_pred = reg.predict(x_test)"
   ]
  },
  {
   "cell_type": "code",
   "execution_count": null,
   "id": "naval-disability",
   "metadata": {},
   "outputs": [],
   "source": [
    "from sklearn.metrics import mean_absolute_error\n",
    "from sklearn.metrics import mean_squared_error"
   ]
  },
  {
   "cell_type": "code",
   "execution_count": null,
   "id": "impossible-concentrate",
   "metadata": {},
   "outputs": [],
   "source": [
    "print(\"MAE\",mean_absolute_error(y_test,y_pred))"
   ]
  },
  {
   "cell_type": "code",
   "execution_count": null,
   "id": "rotary-arbitration",
   "metadata": {},
   "outputs": [],
   "source": [
    "print(\"RMSE\",np.sqrt(mean_squared_error(y_test,y_pred)))"
   ]
  },
  {
   "cell_type": "code",
   "execution_count": null,
   "id": "controlling-zoning",
   "metadata": {},
   "outputs": [],
   "source": [
    "print(\"RMSE\",np.log(np.sqrt(mean_squared_error(y_test,y_pred))))"
   ]
  },
  {
   "cell_type": "code",
   "execution_count": null,
   "id": "reasonable-appointment",
   "metadata": {},
   "outputs": [],
   "source": [
    "from sklearn.metrics import r2_score\n",
    "r2 = r2_score(y_test,y_pred)\n",
    "print(r2)"
   ]
  },
  {
   "cell_type": "code",
   "execution_count": null,
   "id": "annual-present",
   "metadata": {},
   "outputs": [],
   "source": [
    "import matplotlib.pyplot as plt"
   ]
  },
  {
   "cell_type": "code",
   "execution_count": null,
   "id": "assigned-forest",
   "metadata": {},
   "outputs": [],
   "source": [
    "len(x_test), len(y_test), len(y_pred)"
   ]
  },
  {
   "cell_type": "code",
   "execution_count": null,
   "id": "convertible-mainstream",
   "metadata": {},
   "outputs": [],
   "source": [
    "x_test"
   ]
  },
  {
   "cell_type": "code",
   "execution_count": null,
   "id": "reserved-turning",
   "metadata": {},
   "outputs": [],
   "source": [
    "dfx = pd.DataFrame(x_test)"
   ]
  },
  {
   "cell_type": "code",
   "execution_count": null,
   "id": "established-overall",
   "metadata": {},
   "outputs": [],
   "source": [
    "dfx.head()"
   ]
  },
  {
   "cell_type": "code",
   "execution_count": null,
   "id": "advised-carroll",
   "metadata": {},
   "outputs": [],
   "source": [
    "dfx = dfx.reset_index()"
   ]
  },
  {
   "cell_type": "code",
   "execution_count": null,
   "id": "italic-indication",
   "metadata": {
    "scrolled": true
   },
   "outputs": [],
   "source": [
    "dfx.head()"
   ]
  },
  {
   "cell_type": "code",
   "execution_count": null,
   "id": "protective-startup",
   "metadata": {},
   "outputs": [],
   "source": [
    "dfx['y_test'] = y_test"
   ]
  },
  {
   "cell_type": "code",
   "execution_count": null,
   "id": "worldwide-provider",
   "metadata": {},
   "outputs": [],
   "source": [
    "dfx['y_pred'] = y_pred"
   ]
  },
  {
   "cell_type": "code",
   "execution_count": null,
   "id": "thick-township",
   "metadata": {},
   "outputs": [],
   "source": [
    "dfx = dfx.query(''' y_test > 0 ''')"
   ]
  },
  {
   "cell_type": "code",
   "execution_count": null,
   "id": "surface-sheep",
   "metadata": {},
   "outputs": [],
   "source": [
    "df_sample = dfx[['index','y_test','y_pred']].sample(20)\n",
    "df_sample = df_sample.sort_values(by=['index'], ascending=True)"
   ]
  },
  {
   "cell_type": "code",
   "execution_count": null,
   "id": "running-emphasis",
   "metadata": {},
   "outputs": [],
   "source": [
    "df_sample"
   ]
  },
  {
   "cell_type": "code",
   "execution_count": null,
   "id": "indirect-blood",
   "metadata": {},
   "outputs": [],
   "source": [
    "plt.figure()\n",
    "plt.scatter(df_sample['index'],df_sample['y_test'],color=\"blue\")\n",
    "plt.plot(df_sample['index'],df_sample['y_test'],color=\"blue\")\n",
    "plt.scatter(df_sample['index'],df_sample['y_pred'],color=\"red\")\n",
    "plt.plot(df_sample['index'],df_sample['y_pred'],color=\"red\")\n"
   ]
  },
  {
   "cell_type": "code",
   "execution_count": null,
   "id": "olympic-specialist",
   "metadata": {},
   "outputs": [],
   "source": [
    "dfx = dfx.sort_values(by=['index'], ascending=True)"
   ]
  },
  {
   "cell_type": "code",
   "execution_count": null,
   "id": "american-chess",
   "metadata": {},
   "outputs": [],
   "source": [
    "dfx = dfx.head(100)"
   ]
  },
  {
   "cell_type": "code",
   "execution_count": null,
   "id": "formal-allocation",
   "metadata": {},
   "outputs": [],
   "source": [
    "plt.figure()\n",
    "plt.scatter(dfx['index'],dfx['y_test'],color=\"blue\")\n",
    "plt.plot(dfx['index'],dfx['y_test'],color=\"blue\")\n",
    "plt.scatter(dfx['index'],dfx['y_pred'],color=\"red\")\n",
    "plt.plot(dfx['index'],dfx['y_pred'],color=\"red\")"
   ]
  },
  {
   "cell_type": "code",
   "execution_count": null,
   "id": "spectacular-foundation",
   "metadata": {},
   "outputs": [],
   "source": []
  },
  {
   "cell_type": "code",
   "execution_count": null,
   "id": "patent-warrant",
   "metadata": {},
   "outputs": [],
   "source": [
    "np.unique(x_train, return_counts = True)"
   ]
  },
  {
   "cell_type": "code",
   "execution_count": null,
   "id": "powerful-layout",
   "metadata": {},
   "outputs": [],
   "source": []
  },
  {
   "cell_type": "code",
   "execution_count": null,
   "id": "flush-arctic",
   "metadata": {},
   "outputs": [],
   "source": []
  },
  {
   "cell_type": "code",
   "execution_count": null,
   "id": "sealed-terrorism",
   "metadata": {},
   "outputs": [],
   "source": []
  },
  {
   "cell_type": "code",
   "execution_count": null,
   "id": "arranged-agreement",
   "metadata": {},
   "outputs": [],
   "source": [
    "from sklearn.preprocessing import PolynomialFeatures\n",
    "from sklearn.pipeline import make_pipeline\n",
    "from sklearn.linear_model import LinearRegression"
   ]
  },
  {
   "cell_type": "code",
   "execution_count": null,
   "id": "ahead-respect",
   "metadata": {},
   "outputs": [],
   "source": [
    "degree=3\n",
    "polyreg=make_pipeline(PolynomialFeatures(degree),LinearRegression())\n",
    "polyreg.fit(x_train,y_train)"
   ]
  },
  {
   "cell_type": "code",
   "execution_count": null,
   "id": "measured-observation",
   "metadata": {},
   "outputs": [],
   "source": [
    "y_pred = polyreg.predict(x_test)"
   ]
  },
  {
   "cell_type": "code",
   "execution_count": null,
   "id": "liberal-diploma",
   "metadata": {},
   "outputs": [],
   "source": [
    "print(\"MAE\",mean_absolute_error(y_test,y_pred))\n",
    "print(\"RMSE\",np.sqrt(mean_squared_error(y_test,y_pred)))\n",
    "print(\"RMSE\",np.log(np.sqrt(mean_squared_error(y_test,y_pred))))"
   ]
  },
  {
   "cell_type": "code",
   "execution_count": null,
   "id": "flying-blowing",
   "metadata": {},
   "outputs": [],
   "source": [
    "import matplotlib.pyplot as pltplt.figure()"
   ]
  },
  {
   "cell_type": "code",
   "execution_count": null,
   "id": "excessive-marks",
   "metadata": {},
   "outputs": [],
   "source": [
    "plt.scatter(x_test,y_test)\n",
    "plt.plot(x_test,y_pred,color=\"black\")\n",
    "plt.title(\"Polynomial regression with degree \"+str(degree))plt.show()"
   ]
  },
  {
   "cell_type": "code",
   "execution_count": null,
   "id": "manufactured-evanescence",
   "metadata": {},
   "outputs": [],
   "source": []
  },
  {
   "cell_type": "code",
   "execution_count": null,
   "id": "social-county",
   "metadata": {},
   "outputs": [],
   "source": []
  },
  {
   "cell_type": "code",
   "execution_count": null,
   "id": "executed-remark",
   "metadata": {},
   "outputs": [],
   "source": []
  },
  {
   "cell_type": "code",
   "execution_count": null,
   "id": "joined-accent",
   "metadata": {},
   "outputs": [],
   "source": []
  },
  {
   "cell_type": "code",
   "execution_count": null,
   "id": "cooked-agenda",
   "metadata": {},
   "outputs": [],
   "source": []
  },
  {
   "cell_type": "code",
   "execution_count": null,
   "id": "supreme-guidance",
   "metadata": {},
   "outputs": [],
   "source": []
  },
  {
   "cell_type": "code",
   "execution_count": null,
   "id": "contemporary-analyst",
   "metadata": {},
   "outputs": [],
   "source": []
  },
  {
   "cell_type": "code",
   "execution_count": null,
   "id": "clear-mercy",
   "metadata": {},
   "outputs": [],
   "source": []
  },
  {
   "cell_type": "code",
   "execution_count": null,
   "id": "strange-tokyo",
   "metadata": {},
   "outputs": [],
   "source": []
  },
  {
   "cell_type": "code",
   "execution_count": null,
   "id": "atomic-contents",
   "metadata": {},
   "outputs": [],
   "source": []
  },
  {
   "cell_type": "code",
   "execution_count": null,
   "id": "eastern-portal",
   "metadata": {},
   "outputs": [],
   "source": []
  },
  {
   "cell_type": "markdown",
   "id": "australian-harris",
   "metadata": {},
   "source": [
    "https://www.analyticsvidhya.com/blog/2021/05/know-the-best-evaluation-metrics-for-your-regression-model/"
   ]
  },
  {
   "cell_type": "markdown",
   "id": "honey-starter",
   "metadata": {},
   "source": [
    "https://towardsdatascience.com/polynomial-regression-with-scikit-learn-what-you-should-know-bed9d3296f2"
   ]
  }
 ],
 "metadata": {
  "kernelspec": {
   "display_name": "Python 3",
   "language": "python",
   "name": "python3"
  },
  "language_info": {
   "codemirror_mode": {
    "name": "ipython",
    "version": 3
   },
   "file_extension": ".py",
   "mimetype": "text/x-python",
   "name": "python",
   "nbconvert_exporter": "python",
   "pygments_lexer": "ipython3",
   "version": "3.6.9"
  }
 },
 "nbformat": 4,
 "nbformat_minor": 5
}
